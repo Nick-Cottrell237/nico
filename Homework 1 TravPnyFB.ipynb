{
 "cells": [
  {
   "cell_type": "code",
   "execution_count": 0,
   "metadata": {
    "colab": {
     "base_uri": "https://localhost:8080/",
     "height": 141
    },
    "colab_type": "code",
    "executionInfo": {
     "elapsed": 4971,
     "status": "ok",
     "timestamp": 1573681286686,
     "user": {
      "displayName": "Nick Cottrell",
      "photoUrl": "",
      "userId": "11106463128379382840"
     },
     "user_tz": 420
    },
    "id": "AsppTX5ptova",
    "outputId": "c43fa43d-8dda-4623-c773-2777d1ddeea9"
   },
   "outputs": [
    {
     "name": "stdout",
     "output_type": "stream",
     "text": [
      "Collecting arrow\n",
      "\u001b[?25l  Downloading https://files.pythonhosted.org/packages/a1/39/a8e116084cf4160f0821ca9bb84ec312ccca84caa2b2bffb70d95d47f91f/arrow-0.15.4-py2.py3-none-any.whl (45kB)\n",
      "\r",
      "\u001b[K     |███████▎                        | 10kB 13.7MB/s eta 0:00:01\r",
      "\u001b[K     |██████████████▌                 | 20kB 1.8MB/s eta 0:00:01\r",
      "\u001b[K     |█████████████████████▊          | 30kB 2.5MB/s eta 0:00:01\r",
      "\u001b[K     |█████████████████████████████   | 40kB 1.7MB/s eta 0:00:01\r",
      "\u001b[K     |████████████████████████████████| 51kB 1.4MB/s \n",
      "\u001b[?25hRequirement already satisfied: python-dateutil in /usr/local/lib/python3.6/dist-packages (from arrow) (2.6.1)\n",
      "Requirement already satisfied: six>=1.5 in /usr/local/lib/python3.6/dist-packages (from python-dateutil->arrow) (1.12.0)\n",
      "Installing collected packages: arrow\n",
      "Successfully installed arrow-0.15.4\n"
     ]
    }
   ],
   "source": [
    "!pip install arrow"
   ]
  },
  {
   "cell_type": "code",
   "execution_count": 0,
   "metadata": {
    "colab": {},
    "colab_type": "code",
    "id": "vzDG49uvpDSB"
   },
   "outputs": [],
   "source": [
    "import pandas as pd\n",
    "import arrow as arrow\n",
    "import numpy as np\n",
    "import statsmodels.api as sm"
   ]
  },
  {
   "cell_type": "code",
   "execution_count": 0,
   "metadata": {
    "colab": {
     "base_uri": "https://localhost:8080/",
     "height": 384
    },
    "colab_type": "code",
    "executionInfo": {
     "elapsed": 610,
     "status": "ok",
     "timestamp": 1573681580762,
     "user": {
      "displayName": "Nick Cottrell",
      "photoUrl": "",
      "userId": "11106463128379382840"
     },
     "user_tz": 420
    },
    "id": "W2kMqVIqo2Te",
    "outputId": "94bbdf46-dfd1-4a0a-cbe4-9a918ea6b453"
   },
   "outputs": [
    {
     "data": {
      "text/html": [
       "<div>\n",
       "<style scoped>\n",
       "    .dataframe tbody tr th:only-of-type {\n",
       "        vertical-align: middle;\n",
       "    }\n",
       "\n",
       "    .dataframe tbody tr th {\n",
       "        vertical-align: top;\n",
       "    }\n",
       "\n",
       "    .dataframe thead th {\n",
       "        text-align: right;\n",
       "    }\n",
       "</style>\n",
       "<table border=\"1\" class=\"dataframe\">\n",
       "  <thead>\n",
       "    <tr style=\"text-align: right;\">\n",
       "      <th></th>\n",
       "      <th>Start Date</th>\n",
       "      <th>End Date</th>\n",
       "      <th>Account</th>\n",
       "      <th>Campaign Name</th>\n",
       "      <th>Reach</th>\n",
       "      <th>Frequency</th>\n",
       "      <th>Impressions</th>\n",
       "      <th>Clicks</th>\n",
       "      <th>Unique Clicks</th>\n",
       "      <th>Amount Spent (USD)</th>\n",
       "      <th>Page Likes</th>\n",
       "      <th>Page Engagement</th>\n",
       "      <th>Post Engagement</th>\n",
       "      <th>Post Likes</th>\n",
       "      <th>Post Comments</th>\n",
       "      <th>Post Shares</th>\n",
       "      <th>Photo Views</th>\n",
       "      <th>Website Clicks</th>\n",
       "      <th>Cost per Page Like (USD)</th>\n",
       "      <th>Cost per Page Engagement (USD)</th>\n",
       "    </tr>\n",
       "  </thead>\n",
       "  <tbody>\n",
       "    <tr>\n",
       "      <th>0</th>\n",
       "      <td>2013-12-02</td>\n",
       "      <td>2013-12-02</td>\n",
       "      <td>Bob Jackson</td>\n",
       "      <td>Cyber Weekend</td>\n",
       "      <td>278117</td>\n",
       "      <td>2.314303</td>\n",
       "      <td>643647</td>\n",
       "      <td>336</td>\n",
       "      <td>313</td>\n",
       "      <td>300.00</td>\n",
       "      <td>3</td>\n",
       "      <td>246</td>\n",
       "      <td>243</td>\n",
       "      <td>0</td>\n",
       "      <td>0</td>\n",
       "      <td>0</td>\n",
       "      <td>0</td>\n",
       "      <td>243</td>\n",
       "      <td>100.00</td>\n",
       "      <td>1.219512</td>\n",
       "    </tr>\n",
       "    <tr>\n",
       "      <th>1</th>\n",
       "      <td>2013-12-01</td>\n",
       "      <td>2013-12-01</td>\n",
       "      <td>Bob Jackson</td>\n",
       "      <td>Cyber Weekend</td>\n",
       "      <td>221255</td>\n",
       "      <td>2.079090</td>\n",
       "      <td>460009</td>\n",
       "      <td>376</td>\n",
       "      <td>348</td>\n",
       "      <td>300.00</td>\n",
       "      <td>6</td>\n",
       "      <td>215</td>\n",
       "      <td>209</td>\n",
       "      <td>0</td>\n",
       "      <td>0</td>\n",
       "      <td>0</td>\n",
       "      <td>0</td>\n",
       "      <td>209</td>\n",
       "      <td>50.00</td>\n",
       "      <td>1.395349</td>\n",
       "    </tr>\n",
       "    <tr>\n",
       "      <th>2</th>\n",
       "      <td>2013-11-30</td>\n",
       "      <td>2013-11-30</td>\n",
       "      <td>Bob Jackson</td>\n",
       "      <td>Cyber Weekend</td>\n",
       "      <td>267915</td>\n",
       "      <td>2.499069</td>\n",
       "      <td>669538</td>\n",
       "      <td>383</td>\n",
       "      <td>345</td>\n",
       "      <td>300.00</td>\n",
       "      <td>2</td>\n",
       "      <td>252</td>\n",
       "      <td>250</td>\n",
       "      <td>0</td>\n",
       "      <td>0</td>\n",
       "      <td>0</td>\n",
       "      <td>0</td>\n",
       "      <td>250</td>\n",
       "      <td>150.00</td>\n",
       "      <td>1.190476</td>\n",
       "    </tr>\n",
       "    <tr>\n",
       "      <th>3</th>\n",
       "      <td>2013-11-29</td>\n",
       "      <td>2013-11-29</td>\n",
       "      <td>Bob Jackson</td>\n",
       "      <td>Cyber Weekend</td>\n",
       "      <td>280332</td>\n",
       "      <td>2.365406</td>\n",
       "      <td>663099</td>\n",
       "      <td>301</td>\n",
       "      <td>275</td>\n",
       "      <td>300.00</td>\n",
       "      <td>3</td>\n",
       "      <td>257</td>\n",
       "      <td>254</td>\n",
       "      <td>0</td>\n",
       "      <td>0</td>\n",
       "      <td>0</td>\n",
       "      <td>0</td>\n",
       "      <td>254</td>\n",
       "      <td>100.00</td>\n",
       "      <td>1.167315</td>\n",
       "    </tr>\n",
       "    <tr>\n",
       "      <th>4</th>\n",
       "      <td>2013-11-22</td>\n",
       "      <td>2013-11-22</td>\n",
       "      <td>Bob Jackson</td>\n",
       "      <td>TravelPony: General Ads</td>\n",
       "      <td>14269</td>\n",
       "      <td>1.000420</td>\n",
       "      <td>14275</td>\n",
       "      <td>64</td>\n",
       "      <td>61</td>\n",
       "      <td>35.18</td>\n",
       "      <td>2</td>\n",
       "      <td>14</td>\n",
       "      <td>12</td>\n",
       "      <td>0</td>\n",
       "      <td>0</td>\n",
       "      <td>0</td>\n",
       "      <td>0</td>\n",
       "      <td>12</td>\n",
       "      <td>17.59</td>\n",
       "      <td>2.512857</td>\n",
       "    </tr>\n",
       "  </tbody>\n",
       "</table>\n",
       "</div>"
      ],
      "text/plain": [
       "   Start Date  ... Cost per Page Engagement (USD)\n",
       "0  2013-12-02  ...                       1.219512\n",
       "1  2013-12-01  ...                       1.395349\n",
       "2  2013-11-30  ...                       1.190476\n",
       "3  2013-11-29  ...                       1.167315\n",
       "4  2013-11-22  ...                       2.512857\n",
       "\n",
       "[5 rows x 20 columns]"
      ]
     },
     "execution_count": 21,
     "metadata": {
      "tags": []
     },
     "output_type": "execute_result"
    }
   ],
   "source": [
    "DATA_URL = 'http://128.138.93.164/aprd6342/data/TravelPonyFacebook.csv'\n",
    "df = pd.read_csv(DATA_URL)\n",
    "df.head()"
   ]
  },
  {
   "cell_type": "code",
   "execution_count": 0,
   "metadata": {
    "colab": {},
    "colab_type": "code",
    "id": "2b2EdwPbxIbA"
   },
   "outputs": [],
   "source": [
    "#create column  'cost per impression' by dividing Amount Spent / Impressions\n",
    "df['cost per impression'] = df['Amount Spent (USD)'] / df['Impressions']"
   ]
  },
  {
   "cell_type": "code",
   "execution_count": 27,
   "metadata": {
    "colab": {
     "base_uri": "https://localhost:8080/",
     "height": 145
    },
    "colab_type": "code",
    "executionInfo": {
     "elapsed": 1114,
     "status": "ok",
     "timestamp": 1573682271483,
     "user": {
      "displayName": "Nick Cottrell",
      "photoUrl": "",
      "userId": "11106463128379382840"
     },
     "user_tz": 420
    },
    "id": "9GpeMmxOu3Ma",
    "outputId": "2979e7c5-e45f-4ee8-a7ae-170301eca63c"
   },
   "outputs": [
    {
     "data": {
      "text/plain": [
       "Index(['Start Date', 'End Date', 'Account', 'Campaign Name', 'Reach',\n",
       "       'Frequency', 'Impressions', 'Clicks', 'Unique Clicks',\n",
       "       'Amount Spent (USD)', 'Page Likes', 'Page Engagement',\n",
       "       'Post Engagement', 'Post Likes', 'Post Comments', 'Post Shares',\n",
       "       'Photo Views', 'Website Clicks', 'Cost per Page Like (USD)',\n",
       "       'Cost per Page Engagement (USD)', 'Day of Week', 'cost per impression'],\n",
       "      dtype='object')"
      ]
     },
     "execution_count": 27,
     "metadata": {
      "tags": []
     },
     "output_type": "execute_result"
    }
   ],
   "source": [
    "df['Start Date'] = pd.to_datetime(df['Start Date'])\n",
    "df['Day of Week'] = df['Start Date'].dt.day_name()\n",
    "df.columns"
   ]
  },
  {
   "cell_type": "code",
   "execution_count": 28,
   "metadata": {
    "colab": {
     "base_uri": "https://localhost:8080/",
     "height": 258
    },
    "colab_type": "code",
    "executionInfo": {
     "elapsed": 327,
     "status": "ok",
     "timestamp": 1573682306353,
     "user": {
      "displayName": "Nick Cottrell",
      "photoUrl": "",
      "userId": "11106463128379382840"
     },
     "user_tz": 420
    },
    "id": "NTfh17N0wz3k",
    "outputId": "831ef7cf-62b7-412c-c0c7-d0dcd693686f"
   },
   "outputs": [
    {
     "data": {
      "text/html": [
       "<div>\n",
       "<style scoped>\n",
       "    .dataframe tbody tr th:only-of-type {\n",
       "        vertical-align: middle;\n",
       "    }\n",
       "\n",
       "    .dataframe tbody tr th {\n",
       "        vertical-align: top;\n",
       "    }\n",
       "\n",
       "    .dataframe thead th {\n",
       "        text-align: right;\n",
       "    }\n",
       "</style>\n",
       "<table border=\"1\" class=\"dataframe\">\n",
       "  <thead>\n",
       "    <tr style=\"text-align: right;\">\n",
       "      <th></th>\n",
       "      <th>Day of Week</th>\n",
       "      <th>cost per impression</th>\n",
       "    </tr>\n",
       "  </thead>\n",
       "  <tbody>\n",
       "    <tr>\n",
       "      <th>0</th>\n",
       "      <td>Friday</td>\n",
       "      <td>0.004097</td>\n",
       "    </tr>\n",
       "    <tr>\n",
       "      <th>1</th>\n",
       "      <td>Monday</td>\n",
       "      <td>0.002910</td>\n",
       "    </tr>\n",
       "    <tr>\n",
       "      <th>2</th>\n",
       "      <td>Saturday</td>\n",
       "      <td>0.002629</td>\n",
       "    </tr>\n",
       "    <tr>\n",
       "      <th>3</th>\n",
       "      <td>Sunday</td>\n",
       "      <td>0.003688</td>\n",
       "    </tr>\n",
       "    <tr>\n",
       "      <th>4</th>\n",
       "      <td>Thursday</td>\n",
       "      <td>0.003398</td>\n",
       "    </tr>\n",
       "    <tr>\n",
       "      <th>5</th>\n",
       "      <td>Tuesday</td>\n",
       "      <td>0.003040</td>\n",
       "    </tr>\n",
       "    <tr>\n",
       "      <th>6</th>\n",
       "      <td>Wednesday</td>\n",
       "      <td>0.002981</td>\n",
       "    </tr>\n",
       "  </tbody>\n",
       "</table>\n",
       "</div>"
      ],
      "text/plain": [
       "  Day of Week  cost per impression\n",
       "0      Friday             0.004097\n",
       "1      Monday             0.002910\n",
       "2    Saturday             0.002629\n",
       "3      Sunday             0.003688\n",
       "4    Thursday             0.003398\n",
       "5     Tuesday             0.003040\n",
       "6   Wednesday             0.002981"
      ]
     },
     "execution_count": 28,
     "metadata": {
      "tags": []
     },
     "output_type": "execute_result"
    }
   ],
   "source": [
    "df.groupby('Day of Week', as_index=False).agg({'cost per impression': 'mean'})"
   ]
  },
  {
   "cell_type": "markdown",
   "metadata": {
    "colab_type": "text",
    "id": "QGtJc9DU91bo"
   },
   "source": [
    "Day of the week that works best is Saturday with an average cost per impression of .0026 which is the smallest of any other day\n"
   ]
  },
  {
   "cell_type": "code",
   "execution_count": 31,
   "metadata": {
    "colab": {
     "base_uri": "https://localhost:8080/",
     "height": 163
    },
    "colab_type": "code",
    "executionInfo": {
     "elapsed": 374,
     "status": "ok",
     "timestamp": 1573683463675,
     "user": {
      "displayName": "Nick Cottrell",
      "photoUrl": "",
      "userId": "11106463128379382840"
     },
     "user_tz": 420
    },
    "id": "HWK-bJG3y5vg",
    "outputId": "d4b2c69d-b9a3-473d-8f40-f1cfef14da9c"
   },
   "outputs": [
    {
     "name": "stdout",
     "output_type": "stream",
     "text": [
      "                    Amount Spent (USD)     Reach  ...  Unique Clicks  Page Likes\n",
      "Amount Spent (USD)            1.000000  0.703124  ...       0.882993    0.757612\n",
      "Reach                         0.703124  1.000000  ...       0.722249    0.304388\n",
      "Frequency                     0.130201  0.334101  ...       0.135103    0.000182\n",
      "Unique Clicks                 0.882993  0.722249  ...       1.000000    0.584614\n",
      "Page Likes                    0.757612  0.304388  ...       0.584614    1.000000\n",
      "\n",
      "[5 rows x 5 columns]\n"
     ]
    }
   ],
   "source": [
    "#correnlation betwetween amount spent, reach, freq, UCks, page likes\n",
    "print(df[['Amount Spent (USD)','Reach','Frequency','Unique Clicks','Page Likes']].corr())"
   ]
  },
  {
   "cell_type": "markdown",
   "metadata": {
    "colab_type": "text",
    "id": "N0D-xv9f9xdB"
   },
   "source": [
    "Unique clicks has the highest correlation (closest to 1) \n",
    "Unique Clicks = 0.88 strong correlation "
   ]
  },
  {
   "cell_type": "code",
   "execution_count": 50,
   "metadata": {
    "colab": {
     "base_uri": "https://localhost:8080/",
     "height": 423
    },
    "colab_type": "code",
    "executionInfo": {
     "elapsed": 321,
     "status": "ok",
     "timestamp": 1573684627798,
     "user": {
      "displayName": "Nick Cottrell",
      "photoUrl": "",
      "userId": "11106463128379382840"
     },
     "user_tz": 420
    },
    "id": "23oxMrE72ErX",
    "outputId": "06895ff1-e43d-4a41-fa5f-012a5c0192e1"
   },
   "outputs": [
    {
     "data": {
      "text/html": [
       "<table class=\"simpletable\">\n",
       "<caption>OLS Regression Results</caption>\n",
       "<tr>\n",
       "  <th>Dep. Variable:</th>      <td>Unique Clicks</td>  <th>  R-squared (uncentered):</th>      <td>   0.539</td> \n",
       "</tr>\n",
       "<tr>\n",
       "  <th>Model:</th>                   <td>OLS</td>       <th>  Adj. R-squared (uncentered):</th> <td>   0.539</td> \n",
       "</tr>\n",
       "<tr>\n",
       "  <th>Method:</th>             <td>Least Squares</td>  <th>  F-statistic:       </th>          <td>   4334.</td> \n",
       "</tr>\n",
       "<tr>\n",
       "  <th>Date:</th>             <td>Wed, 13 Nov 2019</td> <th>  Prob (F-statistic):</th>           <td>  0.00</td>  \n",
       "</tr>\n",
       "<tr>\n",
       "  <th>Time:</th>                 <td>22:37:08</td>     <th>  Log-Likelihood:    </th>          <td> -16045.</td> \n",
       "</tr>\n",
       "<tr>\n",
       "  <th>No. Observations:</th>      <td>  3705</td>      <th>  AIC:               </th>          <td>3.209e+04</td>\n",
       "</tr>\n",
       "<tr>\n",
       "  <th>Df Residuals:</th>          <td>  3704</td>      <th>  BIC:               </th>          <td>3.210e+04</td>\n",
       "</tr>\n",
       "<tr>\n",
       "  <th>Df Model:</th>              <td>     1</td>      <th>                     </th>              <td> </td>    \n",
       "</tr>\n",
       "<tr>\n",
       "  <th>Covariance Type:</th>      <td>nonrobust</td>    <th>                     </th>              <td> </td>    \n",
       "</tr>\n",
       "</table>\n",
       "<table class=\"simpletable\">\n",
       "<tr>\n",
       "   <td></td>     <th>coef</th>     <th>std err</th>      <th>t</th>      <th>P>|t|</th>  <th>[0.025</th>    <th>0.975]</th>  \n",
       "</tr>\n",
       "<tr>\n",
       "  <th>x1</th> <td>    0.0020</td> <td> 3.09e-05</td> <td>   65.834</td> <td> 0.000</td> <td>    0.002</td> <td>    0.002</td>\n",
       "</tr>\n",
       "</table>\n",
       "<table class=\"simpletable\">\n",
       "<tr>\n",
       "  <th>Omnibus:</th>       <td>4800.078</td> <th>  Durbin-Watson:     </th>  <td>   0.762</td>  \n",
       "</tr>\n",
       "<tr>\n",
       "  <th>Prob(Omnibus):</th>  <td> 0.000</td>  <th>  Jarque-Bera (JB):  </th> <td>5192525.148</td>\n",
       "</tr>\n",
       "<tr>\n",
       "  <th>Skew:</th>           <td> 6.420</td>  <th>  Prob(JB):          </th>  <td>    0.00</td>  \n",
       "</tr>\n",
       "<tr>\n",
       "  <th>Kurtosis:</th>       <td>185.951</td> <th>  Cond. No.          </th>  <td>    1.00</td>  \n",
       "</tr>\n",
       "</table><br/><br/>Warnings:<br/>[1] Standard Errors assume that the covariance matrix of the errors is correctly specified."
      ],
      "text/plain": [
       "<class 'statsmodels.iolib.summary.Summary'>\n",
       "\"\"\"\n",
       "                                 OLS Regression Results                                \n",
       "=======================================================================================\n",
       "Dep. Variable:          Unique Clicks   R-squared (uncentered):                   0.539\n",
       "Model:                            OLS   Adj. R-squared (uncentered):              0.539\n",
       "Method:                 Least Squares   F-statistic:                              4334.\n",
       "Date:                Wed, 13 Nov 2019   Prob (F-statistic):                        0.00\n",
       "Time:                        22:37:08   Log-Likelihood:                         -16045.\n",
       "No. Observations:                3705   AIC:                                  3.209e+04\n",
       "Df Residuals:                    3704   BIC:                                  3.210e+04\n",
       "Df Model:                           1                                                  \n",
       "Covariance Type:            nonrobust                                                  \n",
       "==============================================================================\n",
       "                 coef    std err          t      P>|t|      [0.025      0.975]\n",
       "------------------------------------------------------------------------------\n",
       "x1             0.0020   3.09e-05     65.834      0.000       0.002       0.002\n",
       "==============================================================================\n",
       "Omnibus:                     4800.078   Durbin-Watson:                   0.762\n",
       "Prob(Omnibus):                  0.000   Jarque-Bera (JB):          5192525.148\n",
       "Skew:                           6.420   Prob(JB):                         0.00\n",
       "Kurtosis:                     185.951   Cond. No.                         1.00\n",
       "==============================================================================\n",
       "\n",
       "Warnings:\n",
       "[1] Standard Errors assume that the covariance matrix of the errors is correctly specified.\n",
       "\"\"\""
      ]
     },
     "execution_count": 50,
     "metadata": {
      "tags": []
     },
     "output_type": "execute_result"
    }
   ],
   "source": [
    "#Regression where Unique Clicks is the dependent variable and Reach and Frequency are the independent (predictor) variables.\n",
    "#p=0 t=65 SE=0 coef=.002\n",
    "x = df['Unique Clicks']\n",
    "y = df['Reach']+df['Frequency']\n",
    "model = sm.OLS(x,y).fit()\n",
    "model.summary()\n",
    "\n"
   ]
  },
  {
   "cell_type": "markdown",
   "metadata": {
    "colab_type": "text",
    "id": "CvXZM_qU_B4n"
   },
   "source": [
    "1st regression includes both variables\n",
    "output suggests that they are both very predictive but doesnt tell us which one is more predictive than the other"
   ]
  },
  {
   "cell_type": "code",
   "execution_count": 51,
   "metadata": {
    "colab": {
     "base_uri": "https://localhost:8080/",
     "height": 423
    },
    "colab_type": "code",
    "executionInfo": {
     "elapsed": 395,
     "status": "ok",
     "timestamp": 1573685281075,
     "user": {
      "displayName": "Nick Cottrell",
      "photoUrl": "",
      "userId": "11106463128379382840"
     },
     "user_tz": 420
    },
    "id": "7YtdQpON84qD",
    "outputId": "1945116f-87b0-472a-996b-ffdd76dee4c2"
   },
   "outputs": [
    {
     "data": {
      "text/html": [
       "<table class=\"simpletable\">\n",
       "<caption>OLS Regression Results</caption>\n",
       "<tr>\n",
       "  <th>Dep. Variable:</th>      <td>Unique Clicks</td>  <th>  R-squared (uncentered):</th>      <td>   0.539</td> \n",
       "</tr>\n",
       "<tr>\n",
       "  <th>Model:</th>                   <td>OLS</td>       <th>  Adj. R-squared (uncentered):</th> <td>   0.539</td> \n",
       "</tr>\n",
       "<tr>\n",
       "  <th>Method:</th>             <td>Least Squares</td>  <th>  F-statistic:       </th>          <td>   4334.</td> \n",
       "</tr>\n",
       "<tr>\n",
       "  <th>Date:</th>             <td>Wed, 13 Nov 2019</td> <th>  Prob (F-statistic):</th>           <td>  0.00</td>  \n",
       "</tr>\n",
       "<tr>\n",
       "  <th>Time:</th>                 <td>22:48:01</td>     <th>  Log-Likelihood:    </th>          <td> -16045.</td> \n",
       "</tr>\n",
       "<tr>\n",
       "  <th>No. Observations:</th>      <td>  3705</td>      <th>  AIC:               </th>          <td>3.209e+04</td>\n",
       "</tr>\n",
       "<tr>\n",
       "  <th>Df Residuals:</th>          <td>  3704</td>      <th>  BIC:               </th>          <td>3.210e+04</td>\n",
       "</tr>\n",
       "<tr>\n",
       "  <th>Df Model:</th>              <td>     1</td>      <th>                     </th>              <td> </td>    \n",
       "</tr>\n",
       "<tr>\n",
       "  <th>Covariance Type:</th>      <td>nonrobust</td>    <th>                     </th>              <td> </td>    \n",
       "</tr>\n",
       "</table>\n",
       "<table class=\"simpletable\">\n",
       "<tr>\n",
       "    <td></td>       <th>coef</th>     <th>std err</th>      <th>t</th>      <th>P>|t|</th>  <th>[0.025</th>    <th>0.975]</th>  \n",
       "</tr>\n",
       "<tr>\n",
       "  <th>Reach</th> <td>    0.0020</td> <td> 3.09e-05</td> <td>   65.832</td> <td> 0.000</td> <td>    0.002</td> <td>    0.002</td>\n",
       "</tr>\n",
       "</table>\n",
       "<table class=\"simpletable\">\n",
       "<tr>\n",
       "  <th>Omnibus:</th>       <td>4800.065</td> <th>  Durbin-Watson:     </th>  <td>   0.762</td>  \n",
       "</tr>\n",
       "<tr>\n",
       "  <th>Prob(Omnibus):</th>  <td> 0.000</td>  <th>  Jarque-Bera (JB):  </th> <td>5192547.294</td>\n",
       "</tr>\n",
       "<tr>\n",
       "  <th>Skew:</th>           <td> 6.420</td>  <th>  Prob(JB):          </th>  <td>    0.00</td>  \n",
       "</tr>\n",
       "<tr>\n",
       "  <th>Kurtosis:</th>       <td>185.951</td> <th>  Cond. No.          </th>  <td>    1.00</td>  \n",
       "</tr>\n",
       "</table><br/><br/>Warnings:<br/>[1] Standard Errors assume that the covariance matrix of the errors is correctly specified."
      ],
      "text/plain": [
       "<class 'statsmodels.iolib.summary.Summary'>\n",
       "\"\"\"\n",
       "                                 OLS Regression Results                                \n",
       "=======================================================================================\n",
       "Dep. Variable:          Unique Clicks   R-squared (uncentered):                   0.539\n",
       "Model:                            OLS   Adj. R-squared (uncentered):              0.539\n",
       "Method:                 Least Squares   F-statistic:                              4334.\n",
       "Date:                Wed, 13 Nov 2019   Prob (F-statistic):                        0.00\n",
       "Time:                        22:48:01   Log-Likelihood:                         -16045.\n",
       "No. Observations:                3705   AIC:                                  3.209e+04\n",
       "Df Residuals:                    3704   BIC:                                  3.210e+04\n",
       "Df Model:                           1                                                  \n",
       "Covariance Type:            nonrobust                                                  \n",
       "==============================================================================\n",
       "                 coef    std err          t      P>|t|      [0.025      0.975]\n",
       "------------------------------------------------------------------------------\n",
       "Reach          0.0020   3.09e-05     65.832      0.000       0.002       0.002\n",
       "==============================================================================\n",
       "Omnibus:                     4800.065   Durbin-Watson:                   0.762\n",
       "Prob(Omnibus):                  0.000   Jarque-Bera (JB):          5192547.294\n",
       "Skew:                           6.420   Prob(JB):                         0.00\n",
       "Kurtosis:                     185.951   Cond. No.                         1.00\n",
       "==============================================================================\n",
       "\n",
       "Warnings:\n",
       "[1] Standard Errors assume that the covariance matrix of the errors is correctly specified.\n",
       "\"\"\""
      ]
     },
     "execution_count": 51,
     "metadata": {
      "tags": []
     },
     "output_type": "execute_result"
    }
   ],
   "source": [
    "#p=0 t=65 SE=practically 0 coef = .002\n",
    "x = df['Unique Clicks']\n",
    "y = df['Reach']\n",
    "model = sm.OLS(x,y).fit()\n",
    "model.summary()"
   ]
  },
  {
   "cell_type": "markdown",
   "metadata": {
    "colab_type": "text",
    "id": "_TECCMns_Q9O"
   },
   "source": [
    "2nd regression only includes the variable Reach. \n",
    "this output is practically identical to the first wth both variables included. "
   ]
  },
  {
   "cell_type": "code",
   "execution_count": 52,
   "metadata": {
    "colab": {
     "base_uri": "https://localhost:8080/",
     "height": 423
    },
    "colab_type": "code",
    "executionInfo": {
     "elapsed": 376,
     "status": "ok",
     "timestamp": 1573685307300,
     "user": {
      "displayName": "Nick Cottrell",
      "photoUrl": "",
      "userId": "11106463128379382840"
     },
     "user_tz": 420
    },
    "id": "yPwez7xh88si",
    "outputId": "5a0b4305-158d-49c4-bab0-0900c1d360a2"
   },
   "outputs": [
    {
     "data": {
      "text/html": [
       "<table class=\"simpletable\">\n",
       "<caption>OLS Regression Results</caption>\n",
       "<tr>\n",
       "  <th>Dep. Variable:</th>      <td>Unique Clicks</td>  <th>  R-squared (uncentered):</th>      <td>   0.089</td> \n",
       "</tr>\n",
       "<tr>\n",
       "  <th>Model:</th>                   <td>OLS</td>       <th>  Adj. R-squared (uncentered):</th> <td>   0.089</td> \n",
       "</tr>\n",
       "<tr>\n",
       "  <th>Method:</th>             <td>Least Squares</td>  <th>  F-statistic:       </th>          <td>   363.1</td> \n",
       "</tr>\n",
       "<tr>\n",
       "  <th>Date:</th>             <td>Wed, 13 Nov 2019</td> <th>  Prob (F-statistic):</th>          <td>2.64e-77</td> \n",
       "</tr>\n",
       "<tr>\n",
       "  <th>Time:</th>                 <td>22:48:27</td>     <th>  Log-Likelihood:    </th>          <td> -17307.</td> \n",
       "</tr>\n",
       "<tr>\n",
       "  <th>No. Observations:</th>      <td>  3705</td>      <th>  AIC:               </th>          <td>3.462e+04</td>\n",
       "</tr>\n",
       "<tr>\n",
       "  <th>Df Residuals:</th>          <td>  3704</td>      <th>  BIC:               </th>          <td>3.462e+04</td>\n",
       "</tr>\n",
       "<tr>\n",
       "  <th>Df Model:</th>              <td>     1</td>      <th>                     </th>              <td> </td>    \n",
       "</tr>\n",
       "<tr>\n",
       "  <th>Covariance Type:</th>      <td>nonrobust</td>    <th>                     </th>              <td> </td>    \n",
       "</tr>\n",
       "</table>\n",
       "<table class=\"simpletable\">\n",
       "<tr>\n",
       "      <td></td>         <th>coef</th>     <th>std err</th>      <th>t</th>      <th>P>|t|</th>  <th>[0.025</th>    <th>0.975]</th>  \n",
       "</tr>\n",
       "<tr>\n",
       "  <th>Frequency</th> <td>    7.9291</td> <td>    0.416</td> <td>   19.056</td> <td> 0.000</td> <td>    7.113</td> <td>    8.745</td>\n",
       "</tr>\n",
       "</table>\n",
       "<table class=\"simpletable\">\n",
       "<tr>\n",
       "  <th>Omnibus:</th>       <td>5923.176</td> <th>  Durbin-Watson:     </th>  <td>   0.694</td>  \n",
       "</tr>\n",
       "<tr>\n",
       "  <th>Prob(Omnibus):</th>  <td> 0.000</td>  <th>  Jarque-Bera (JB):  </th> <td>3853539.229</td>\n",
       "</tr>\n",
       "<tr>\n",
       "  <th>Skew:</th>           <td>10.278</td>  <th>  Prob(JB):          </th>  <td>    0.00</td>  \n",
       "</tr>\n",
       "<tr>\n",
       "  <th>Kurtosis:</th>       <td>159.651</td> <th>  Cond. No.          </th>  <td>    1.00</td>  \n",
       "</tr>\n",
       "</table><br/><br/>Warnings:<br/>[1] Standard Errors assume that the covariance matrix of the errors is correctly specified."
      ],
      "text/plain": [
       "<class 'statsmodels.iolib.summary.Summary'>\n",
       "\"\"\"\n",
       "                                 OLS Regression Results                                \n",
       "=======================================================================================\n",
       "Dep. Variable:          Unique Clicks   R-squared (uncentered):                   0.089\n",
       "Model:                            OLS   Adj. R-squared (uncentered):              0.089\n",
       "Method:                 Least Squares   F-statistic:                              363.1\n",
       "Date:                Wed, 13 Nov 2019   Prob (F-statistic):                    2.64e-77\n",
       "Time:                        22:48:27   Log-Likelihood:                         -17307.\n",
       "No. Observations:                3705   AIC:                                  3.462e+04\n",
       "Df Residuals:                    3704   BIC:                                  3.462e+04\n",
       "Df Model:                           1                                                  \n",
       "Covariance Type:            nonrobust                                                  \n",
       "==============================================================================\n",
       "                 coef    std err          t      P>|t|      [0.025      0.975]\n",
       "------------------------------------------------------------------------------\n",
       "Frequency      7.9291      0.416     19.056      0.000       7.113       8.745\n",
       "==============================================================================\n",
       "Omnibus:                     5923.176   Durbin-Watson:                   0.694\n",
       "Prob(Omnibus):                  0.000   Jarque-Bera (JB):          3853539.229\n",
       "Skew:                          10.278   Prob(JB):                         0.00\n",
       "Kurtosis:                     159.651   Cond. No.                         1.00\n",
       "==============================================================================\n",
       "\n",
       "Warnings:\n",
       "[1] Standard Errors assume that the covariance matrix of the errors is correctly specified.\n",
       "\"\"\""
      ]
     },
     "execution_count": 52,
     "metadata": {
      "tags": []
     },
     "output_type": "execute_result"
    }
   ],
   "source": [
    "#P=0 t=19 SE=.46 coef=1.9\n",
    "x = df['Unique Clicks']\n",
    "y = df['Frequency']\n",
    "model = sm.OLS(x,y).fit()\n",
    "model.summary()"
   ]
  },
  {
   "cell_type": "markdown",
   "metadata": {
    "colab_type": "text",
    "id": "8GWXnJoJ_n4f"
   },
   "source": [
    "3rd regression only includes Frequency and the t value is lower and SE is higher than the regression with only Reach. Suggesting that Reach is more predictive of Unique Clicks than Frequency. "
   ]
  }
 ],
 "metadata": {
  "colab": {
   "collapsed_sections": [],
   "name": "Homework 1 TravPnyFB",
   "provenance": []
  },
  "kernelspec": {
   "display_name": "Python 3",
   "language": "python",
   "name": "python3"
  },
  "language_info": {
   "codemirror_mode": {
    "name": "ipython",
    "version": 3
   },
   "file_extension": ".py",
   "mimetype": "text/x-python",
   "name": "python",
   "nbconvert_exporter": "python",
   "pygments_lexer": "ipython3",
   "version": "3.7.3"
  }
 },
 "nbformat": 4,
 "nbformat_minor": 1
}
