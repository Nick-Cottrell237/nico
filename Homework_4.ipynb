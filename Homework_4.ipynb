{
 "cells": [
  {
   "cell_type": "code",
   "execution_count": 0,
   "metadata": {
    "colab": {},
    "colab_type": "code",
    "id": "NSxl_oNmsTrb"
   },
   "outputs": [],
   "source": [
    "import pandas as pd\n",
    "import requests\n",
    "import json"
   ]
  },
  {
   "cell_type": "code",
   "execution_count": 0,
   "metadata": {
    "colab": {
     "base_uri": "https://localhost:8080/",
     "height": 198
    },
    "colab_type": "code",
    "id": "60nFm-hGuc4z",
    "outputId": "41397ef8-aed2-42ba-c81e-dc281199260b"
   },
   "outputs": [
    {
     "data": {
      "text/html": [
       "<div>\n",
       "<style scoped>\n",
       "    .dataframe tbody tr th:only-of-type {\n",
       "        vertical-align: middle;\n",
       "    }\n",
       "\n",
       "    .dataframe tbody tr th {\n",
       "        vertical-align: top;\n",
       "    }\n",
       "\n",
       "    .dataframe thead th {\n",
       "        text-align: right;\n",
       "    }\n",
       "</style>\n",
       "<table border=\"1\" class=\"dataframe\">\n",
       "  <thead>\n",
       "    <tr style=\"text-align: right;\">\n",
       "      <th></th>\n",
       "      <th>CBSA</th>\n",
       "      <th>NAME</th>\n",
       "      <th>POPESTIMATE2017</th>\n",
       "    </tr>\n",
       "  </thead>\n",
       "  <tbody>\n",
       "    <tr>\n",
       "      <th>0</th>\n",
       "      <td>10180</td>\n",
       "      <td>Abilene, TX</td>\n",
       "      <td>170219</td>\n",
       "    </tr>\n",
       "    <tr>\n",
       "      <th>1</th>\n",
       "      <td>10420</td>\n",
       "      <td>Akron, OH</td>\n",
       "      <td>703505</td>\n",
       "    </tr>\n",
       "    <tr>\n",
       "      <th>2</th>\n",
       "      <td>10500</td>\n",
       "      <td>Albany, GA</td>\n",
       "      <td>151434</td>\n",
       "    </tr>\n",
       "    <tr>\n",
       "      <th>3</th>\n",
       "      <td>10540</td>\n",
       "      <td>Albany, OR</td>\n",
       "      <td>125047</td>\n",
       "    </tr>\n",
       "    <tr>\n",
       "      <th>4</th>\n",
       "      <td>10580</td>\n",
       "      <td>Albany-Schenectady-Troy, NY</td>\n",
       "      <td>886188</td>\n",
       "    </tr>\n",
       "  </tbody>\n",
       "</table>\n",
       "</div>"
      ],
      "text/plain": [
       "    CBSA                         NAME  POPESTIMATE2017\n",
       "0  10180                  Abilene, TX           170219\n",
       "1  10420                    Akron, OH           703505\n",
       "2  10500                   Albany, GA           151434\n",
       "3  10540                   Albany, OR           125047\n",
       "4  10580  Albany-Schenectady-Troy, NY           886188"
      ]
     },
     "execution_count": 5,
     "metadata": {
      "tags": []
     },
     "output_type": "execute_result"
    }
   ],
   "source": [
    "df = pd.read_csv('https://s3.amazonaws.com/vargo.aprd6342/data/msas.csv')\n",
    "df.head()\n",
    "#From info in assignment page: parameter #1 should be 50k - 74.9k HH income: B19001\n",
    "#parameter #2 should be ages 18-34: B01001\n",
    "#parameter #3 should we target areas with large hispanic pop? Hispanic: B03002"
   ]
  },
  {
   "cell_type": "code",
   "execution_count": 0,
   "metadata": {
    "colab": {
     "base_uri": "https://localhost:8080/",
     "height": 198
    },
    "colab_type": "code",
    "id": "T3jkaZUovD0P",
    "outputId": "79184bbb-7a75-46cc-9dd4-c233640b6bb3"
   },
   "outputs": [
    {
     "data": {
      "text/html": [
       "<div>\n",
       "<style scoped>\n",
       "    .dataframe tbody tr th:only-of-type {\n",
       "        vertical-align: middle;\n",
       "    }\n",
       "\n",
       "    .dataframe tbody tr th {\n",
       "        vertical-align: top;\n",
       "    }\n",
       "\n",
       "    .dataframe thead th {\n",
       "        text-align: right;\n",
       "    }\n",
       "</style>\n",
       "<table border=\"1\" class=\"dataframe\">\n",
       "  <thead>\n",
       "    <tr style=\"text-align: right;\">\n",
       "      <th></th>\n",
       "      <th>CBSA</th>\n",
       "      <th>NAME</th>\n",
       "      <th>POPESTIMATE2017</th>\n",
       "      <th>geoid</th>\n",
       "    </tr>\n",
       "  </thead>\n",
       "  <tbody>\n",
       "    <tr>\n",
       "      <th>0</th>\n",
       "      <td>10180</td>\n",
       "      <td>Abilene, TX</td>\n",
       "      <td>170219</td>\n",
       "      <td>31000US10180</td>\n",
       "    </tr>\n",
       "    <tr>\n",
       "      <th>1</th>\n",
       "      <td>10420</td>\n",
       "      <td>Akron, OH</td>\n",
       "      <td>703505</td>\n",
       "      <td>31000US10420</td>\n",
       "    </tr>\n",
       "    <tr>\n",
       "      <th>2</th>\n",
       "      <td>10500</td>\n",
       "      <td>Albany, GA</td>\n",
       "      <td>151434</td>\n",
       "      <td>31000US10500</td>\n",
       "    </tr>\n",
       "    <tr>\n",
       "      <th>3</th>\n",
       "      <td>10540</td>\n",
       "      <td>Albany, OR</td>\n",
       "      <td>125047</td>\n",
       "      <td>31000US10540</td>\n",
       "    </tr>\n",
       "    <tr>\n",
       "      <th>4</th>\n",
       "      <td>10580</td>\n",
       "      <td>Albany-Schenectady-Troy, NY</td>\n",
       "      <td>886188</td>\n",
       "      <td>31000US10580</td>\n",
       "    </tr>\n",
       "  </tbody>\n",
       "</table>\n",
       "</div>"
      ],
      "text/plain": [
       "    CBSA                         NAME  POPESTIMATE2017         geoid\n",
       "0  10180                  Abilene, TX           170219  31000US10180\n",
       "1  10420                    Akron, OH           703505  31000US10420\n",
       "2  10500                   Albany, GA           151434  31000US10500\n",
       "3  10540                   Albany, OR           125047  31000US10540\n",
       "4  10580  Albany-Schenectady-Troy, NY           886188  31000US10580"
      ]
     },
     "execution_count": 13,
     "metadata": {
      "tags": []
     },
     "output_type": "execute_result"
    }
   ],
   "source": [
    "#add the geo id# to df\n",
    "tableids = ['B19001', 'B01001', 'B03002']\n",
    "tablestring = \",\".join(tableids)\n",
    "\n",
    "geoid = '31000US' + df['CBSA'].astype(str)\n",
    "df['geoid'] = geoid\n",
    "df.head()"
   ]
  },
  {
   "cell_type": "code",
   "execution_count": 0,
   "metadata": {
    "colab": {
     "base_uri": "https://localhost:8080/",
     "height": 399
    },
    "colab_type": "code",
    "id": "VIOnr4HAz8GR",
    "outputId": "1ca58012-6334-43d6-f728-98c021efdc64"
   },
   "outputs": [
    {
     "data": {
      "text/plain": [
       "{'B03002001': 174006.0,\n",
       " 'B03002002': 133580.0,\n",
       " 'B03002003': 110633.0,\n",
       " 'B03002004': 13466.0,\n",
       " 'B03002005': 648.0,\n",
       " 'B03002006': 3491.0,\n",
       " 'B03002007': 0.0,\n",
       " 'B03002008': 578.0,\n",
       " 'B03002009': 4764.0,\n",
       " 'B03002010': 706.0,\n",
       " 'B03002011': 4058.0,\n",
       " 'B03002012': 40426.0,\n",
       " 'B03002013': 21001.0,\n",
       " 'B03002014': 1075.0,\n",
       " 'B03002015': 0.0,\n",
       " 'B03002016': 461.0,\n",
       " 'B03002017': 27.0,\n",
       " 'B03002018': 16003.0,\n",
       " 'B03002019': 1859.0,\n",
       " 'B03002020': 871.0,\n",
       " 'B03002021': 988.0}"
      ]
     },
     "execution_count": 24,
     "metadata": {
      "tags": []
     },
     "output_type": "execute_result"
    }
   ],
   "source": [
    "#pull data from api\n",
    "\n",
    "#requesturl = 'https://api.censusreporter.org/1.0/data/show/latest?table_ids=%s&geo_ids=310|01000US' % tablestring\n",
    "#tableidstring = ','.join(tableids)\n",
    "#loadedjson = requests.get(url)\n",
    "#parsedjson = loadedjson.json()\n",
    "\n",
    "#got error doing it all at once. Breaking into two parts then combining works. \n",
    "geoidstring1 = \",\".join(geoid[:int(len(geoid)/2)])\n",
    "requesturl1 = 'http://api.censusreporter.org/1.0/data/show/latest?table_ids=%s&geo_ids=%s' % (tableidsstring, geoidstring1)\n",
    "loadedjson1 = requests.get(requesturl1)\n",
    "parsedjson1 = json.loads(loadedjson1.text)\n",
    "\n",
    "#second part\n",
    "geoidstring2 = \",\".join(geoid[int(len(geoid)/2):])\n",
    "requesturl2 = 'http://api.censusreporter.org/1.0/data/show/latest?table_ids=%s&geo_ids=%s' % (tableidsstring, geoidstring2)\n",
    "loadedjson2 = requests.get(requesturl2)\n",
    "parsedjson2 = json.loads(loadedjson2.text)\n",
    "\n",
    "#combine the two\n",
    "alldata = dict(parsedjson1['data'], **parsedjson2['data'])\n",
    "alldata['31000US10180']['B03002']['estimate']"
   ]
  },
  {
   "cell_type": "code",
   "execution_count": 0,
   "metadata": {
    "colab": {},
    "colab_type": "code",
    "id": "A-9bhuX07B01"
   },
   "outputs": [],
   "source": [
    "#setting our parameters\n",
    "HHincome = []\n",
    "Popbyage = []\n",
    "PopHispanic = []\n",
    "for i, row in df.iterrows():\n",
    "    Income = alldata[df['geoid'][i]]['B19001']['estimate']['B19001011']#  $50,000 to $59,999\n",
    "    + alldata[df['geoid'][i]]['B19001']['estimate']['B19001012'] #  $60,000 to $74,999\n",
    "    HHincome.append(Income)\n",
    "    Pop = alldata[df['geoid'][i]]['B01001']['estimate']['B01001007']#  18 and 19 Years\n",
    "    + alldata[df['geoid'][i]]['B01001']['estimate']['B01001008']#  20 Years\n",
    "    + alldata[df['geoid'][i]]['B01001']['estimate']['B01001009']#  21 Years\n",
    "    + alldata[df['geoid'][i]]['B01001']['estimate']['B01001010']#  22 to 24 Years\n",
    "    + alldata[df['geoid'][i]]['B01001']['estimate']['B01001011']#  25 to 29 Years\n",
    "    + alldata[df['geoid'][i]]['B01001']['estimate']['B01001012']#  30 to 34 Years\n",
    "    \n",
    "    Popbyage.append(Pop)\n",
    "    Hispanic = alldata[df['geoid'][i]]['B03002']['estimate']['B03002012']#  Hispanic or Latino\n",
    "    PopHispanic.append(Hispanic)\n",
    "\n",
    "df['Pop Income'] = HHincome\n",
    "df['Pop by Age'] = Popbyage\n",
    "df['Pop Hispanic'] = PopHispanic"
   ]
  },
  {
   "cell_type": "code",
   "execution_count": 0,
   "metadata": {
    "colab": {
     "base_uri": "https://localhost:8080/",
     "height": 54
    },
    "colab_type": "code",
    "id": "O5u3j6wr9QAF",
    "outputId": "45b2e6c7-8a32-4932-ecf5-6236f3973598"
   },
   "outputs": [
    {
     "name": "stdout",
     "output_type": "stream",
     "text": [
      "249    New York-Newark-Jersey City, NY-NJ-PA\n",
      "Name: NAME, dtype: object\n"
     ]
    }
   ],
   "source": [
    "#Finding which city has the highest count of the audience for parameter #1: 50k - 74.9k HH income: B19001\n",
    "print(df.loc[df['Pop Income'] == max(df['Pop Income'])]['NAME'])"
   ]
  },
  {
   "cell_type": "markdown",
   "metadata": {
    "colab_type": "text",
    "id": "hRWZ7mNL-3hR"
   },
   "source": [
    "#1\n",
    "New York-Newark-Jersey City has the highest count of the audience with a household income of 50-74.9K "
   ]
  },
  {
   "cell_type": "code",
   "execution_count": 0,
   "metadata": {
    "colab": {
     "base_uri": "https://localhost:8080/",
     "height": 54
    },
    "colab_type": "code",
    "id": "S3dUblNn_WR_",
    "outputId": "c90c7400-dd07-47a8-fa8d-e311a741a6e5"
   },
   "outputs": [
    {
     "name": "stdout",
     "output_type": "stream",
     "text": [
      "249    New York-Newark-Jersey City, NY-NJ-PA\n",
      "Name: NAME, dtype: object\n"
     ]
    }
   ],
   "source": [
    "#Finding which city has the highest count of the audience for parameter #2: ages 18-34: B01001\n",
    "print(df.loc[df['Pop by Age'] == max(df['Pop by Age'])]['NAME'])"
   ]
  },
  {
   "cell_type": "markdown",
   "metadata": {
    "colab_type": "text",
    "id": "fZqaVxZSAAIw"
   },
   "source": [
    "#2\n",
    "New York-Newark-Jersey City has the highest count of the audience with ages 18-34 years old"
   ]
  },
  {
   "cell_type": "code",
   "execution_count": 0,
   "metadata": {
    "colab": {
     "base_uri": "https://localhost:8080/",
     "height": 54
    },
    "colab_type": "code",
    "id": "oAZt_8yMASAz",
    "outputId": "e0cd1969-5b75-48a7-96aa-e05b5b11271c"
   },
   "outputs": [
    {
     "name": "stdout",
     "output_type": "stream",
     "text": [
      "210    Los Angeles-Long Beach-Anaheim, CA\n",
      "Name: NAME, dtype: object\n"
     ]
    }
   ],
   "source": [
    "#Finding which city has the highest count of the audience for parameter #3: Hispanic Consumers\n",
    "print(df.loc[df['Pop Hispanic'] == max(df['Pop Hispanic'])]['NAME'])"
   ]
  },
  {
   "cell_type": "markdown",
   "metadata": {
    "colab_type": "text",
    "id": "JK1s3D48A0dJ"
   },
   "source": [
    "#3\n",
    "Los Angeles-Long Beach-Anaheim, CA has the highest count of the audience with a greater population of Hispanics"
   ]
  },
  {
   "cell_type": "code",
   "execution_count": 0,
   "metadata": {
    "colab": {
     "base_uri": "https://localhost:8080/",
     "height": 54
    },
    "colab_type": "code",
    "id": "Bxnq9I1FBD6c",
    "outputId": "1aa1c9a3-0a14-4833-a278-456cc6e0dc21"
   },
   "outputs": [
    {
     "name": "stdout",
     "output_type": "stream",
     "text": [
      "249    New York-Newark-Jersey City, NY-NJ-PA\n",
      "Name: NAME, dtype: object\n"
     ]
    }
   ],
   "source": [
    "#What city has the highest mean percentage across all three parameters? \n",
    "#convert each parameter to percentages. Each parameter % will simply be \n",
    "#the population count for that parameter / the highest population count for that parameter across all MSAs\n",
    "HHincomepercent = []\n",
    "Popbyagepercent = []\n",
    "PopHispanicpercent = []\n",
    "for i, row in df.iterrows():\n",
    "    Incomepercent = df['Pop Income'][i]/max(df['Pop Income'])\n",
    "    Agepercent = df['Pop by Age'][i]/max(df['Pop by Age'])\n",
    "    Hispanicpercent = df['Pop Hispanic'][i]/max(df['Pop Hispanic'])\n",
    "    HHincomepercent.append(Incomepercent)\n",
    "    Popbyagepercent.append(Agepercent)\n",
    "    PopHispanicpercent.append(Hispanicpercent)\n",
    "\n",
    "df['HH Income %'] = HHincomepercent\n",
    "df['Pop by Age %'] = Popbyagepercent\n",
    "df['Pop Hispanic %'] = PopHispanicpercent\n",
    "\n",
    "mean_percentage = []\n",
    "for i, row in df.iterrows():\n",
    "    Mean = (df['HH Income %'][i] + df['Pop by Age %'][i]+ df['Pop Hispanic %'][i])/3\n",
    "    mean_percentage.append(Mean)\n",
    "df['mean_percentage'] = mean_percentage\n",
    "\n",
    "#finding the city with the highest percentage across all parameters \n",
    "print(df.loc[df['mean_percentage'] == max(df['mean_percentage'])]['NAME'])\n"
   ]
  },
  {
   "cell_type": "markdown",
   "metadata": {
    "colab_type": "text",
    "id": "39nP9uiIEF0r"
   },
   "source": [
    "#4\n",
    "New York-Newark-Jersey City, NY-NJ-PA has the highest percentage of the audience across all three parameters. "
   ]
  }
 ],
 "metadata": {
  "colab": {
   "name": "Homework 4",
   "provenance": []
  },
  "kernelspec": {
   "display_name": "Python 3",
   "language": "python",
   "name": "python3"
  },
  "language_info": {
   "codemirror_mode": {
    "name": "ipython",
    "version": 3
   },
   "file_extension": ".py",
   "mimetype": "text/x-python",
   "name": "python",
   "nbconvert_exporter": "python",
   "pygments_lexer": "ipython3",
   "version": "3.7.3"
  }
 },
 "nbformat": 4,
 "nbformat_minor": 1
}
